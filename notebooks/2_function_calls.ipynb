{
 "cells": [
  {
   "cell_type": "code",
   "execution_count": 1,
   "metadata": {},
   "outputs": [
    {
     "name": "stdout",
     "output_type": "stream",
     "text": [
      "/Users/ugoren/Code/PR/llm_workshop/data/sample_apps.parquet\n"
     ]
    }
   ],
   "source": [
    "import sys, json, re, collections\n",
    "import pandas as pd\n",
    "from pathlib import Path\n",
    "from decouple import config\n",
    "sys.path.append(\"../src/\")\n",
    "from llm_helpers import openai_client\n",
    "\n",
    "pd.set_option('display.max_columns', 1000, 'display.width', 1000, 'display.max_rows',1000)\n",
    "\n",
    "data_dir = Path(\".\").absolute().parent/\"data\"\n",
    "ls = lambda p:print(\"\\n\".join(map(str,p.iterdir())))\n",
    "\n",
    "ls(data_dir)"
   ]
  },
  {
   "cell_type": "code",
   "execution_count": 2,
   "metadata": {},
   "outputs": [
    {
     "data": {
      "text/html": [
       "<div>\n",
       "<style scoped>\n",
       "    .dataframe tbody tr th:only-of-type {\n",
       "        vertical-align: middle;\n",
       "    }\n",
       "\n",
       "    .dataframe tbody tr th {\n",
       "        vertical-align: top;\n",
       "    }\n",
       "\n",
       "    .dataframe thead th {\n",
       "        text-align: right;\n",
       "    }\n",
       "</style>\n",
       "<table border=\"1\" class=\"dataframe\">\n",
       "  <thead>\n",
       "    <tr style=\"text-align: right;\">\n",
       "      <th></th>\n",
       "      <th>bundle_id</th>\n",
       "      <th>title</th>\n",
       "      <th>description</th>\n",
       "      <th>store_url</th>\n",
       "      <th>category_names</th>\n",
       "      <th>ios</th>\n",
       "    </tr>\n",
       "  </thead>\n",
       "  <tbody>\n",
       "    <tr>\n",
       "      <th>3945</th>\n",
       "      <td>1463509237</td>\n",
       "      <td>Phase 10: World Tour</td>\n",
       "      <td>Start playing Phase 10 today – The funny and c...</td>\n",
       "      <td>https://apps.apple.com/us/app/phase-10-world-t...</td>\n",
       "      <td>Games,Entertainment,Card,Casual</td>\n",
       "      <td>True</td>\n",
       "    </tr>\n",
       "    <tr>\n",
       "      <th>54216</th>\n",
       "      <td>de.cellular.ottohybrid</td>\n",
       "      <td>OTTO – Shopping &amp; Möbel</td>\n",
       "      <td>Install the OTTO app now 📲 and shop fashion tr...</td>\n",
       "      <td>https://play.google.com/store/apps/details?id=...</td>\n",
       "      <td>SHOPPING,APPLICATION</td>\n",
       "      <td>False</td>\n",
       "    </tr>\n",
       "    <tr>\n",
       "      <th>45897</th>\n",
       "      <td>com.staplegames.blocksClassicSGGP</td>\n",
       "      <td>Block Puzzle - Classic Style</td>\n",
       "      <td>Block Puzzle - Classic Style\\n\\nHow to play:\\n...</td>\n",
       "      <td>https://play.google.com/store/apps/details?id=...</td>\n",
       "      <td>GAME_PUZZLE,GAME</td>\n",
       "      <td>False</td>\n",
       "    </tr>\n",
       "    <tr>\n",
       "      <th>7478</th>\n",
       "      <td>com.alibaba.intl.android.apps.poseidon</td>\n",
       "      <td>Alibaba.com - B2B marketplace</td>\n",
       "      <td>What is Alibaba.com?\\nAlibaba.com is one of th...</td>\n",
       "      <td>https://play.google.com/store/apps/details?id=...</td>\n",
       "      <td>SHOPPING,APPLICATION</td>\n",
       "      <td>False</td>\n",
       "    </tr>\n",
       "    <tr>\n",
       "      <th>29751</th>\n",
       "      <td>com.king.candycrushsaga</td>\n",
       "      <td>Candy Crush Saga</td>\n",
       "      <td>Master the legendary match 3 puzzle game from ...</td>\n",
       "      <td>https://play.google.com/store/apps/details?id=...</td>\n",
       "      <td>GAME_CASUAL,GAME</td>\n",
       "      <td>False</td>\n",
       "    </tr>\n",
       "    <tr>\n",
       "      <th>58794</th>\n",
       "      <td>me.lyft.android</td>\n",
       "      <td>Lyft</td>\n",
       "      <td>Get where you’re going with Lyft.\\n\\nWhether y...</td>\n",
       "      <td>https://play.google.com/store/apps/details?id=...</td>\n",
       "      <td>MAPS_AND_NAVIGATION,APPLICATION</td>\n",
       "      <td>False</td>\n",
       "    </tr>\n",
       "    <tr>\n",
       "      <th>21686</th>\n",
       "      <td>com.futureplay.mergematch</td>\n",
       "      <td>Merge Gardens</td>\n",
       "      <td>Do you dream about your own gentle garden? You...</td>\n",
       "      <td>https://play.google.com/store/apps/details?id=...</td>\n",
       "      <td>GAME_PUZZLE,GAME</td>\n",
       "      <td>False</td>\n",
       "    </tr>\n",
       "    <tr>\n",
       "      <th>1021</th>\n",
       "      <td>1105855019</td>\n",
       "      <td>Gardenscapes</td>\n",
       "      <td>Welcome to Gardenscapes—the first hit from Pla...</td>\n",
       "      <td>https://apps.apple.com/us/app/gardenscapes/id1...</td>\n",
       "      <td>Games,Entertainment,Puzzle,Simulation</td>\n",
       "      <td>True</td>\n",
       "    </tr>\n",
       "    <tr>\n",
       "      <th>56467</th>\n",
       "      <td>in.playsimple.tripcross</td>\n",
       "      <td>Crossword Jam</td>\n",
       "      <td>Word Jam - A word search &amp; word guess brain ga...</td>\n",
       "      <td>https://play.google.com/store/apps/details?id=...</td>\n",
       "      <td>GAME_WORD,GAME</td>\n",
       "      <td>False</td>\n",
       "    </tr>\n",
       "  </tbody>\n",
       "</table>\n",
       "</div>"
      ],
      "text/plain": [
       "                                    bundle_id                          title                                        description                                          store_url                         category_names    ios\n",
       "3945                               1463509237           Phase 10: World Tour  Start playing Phase 10 today – The funny and c...  https://apps.apple.com/us/app/phase-10-world-t...        Games,Entertainment,Card,Casual   True\n",
       "54216                  de.cellular.ottohybrid        OTTO – Shopping & Möbel  Install the OTTO app now 📲 and shop fashion tr...  https://play.google.com/store/apps/details?id=...                   SHOPPING,APPLICATION  False\n",
       "45897       com.staplegames.blocksClassicSGGP   Block Puzzle - Classic Style  Block Puzzle - Classic Style\\n\\nHow to play:\\n...  https://play.google.com/store/apps/details?id=...                       GAME_PUZZLE,GAME  False\n",
       "7478   com.alibaba.intl.android.apps.poseidon  Alibaba.com - B2B marketplace  What is Alibaba.com?\\nAlibaba.com is one of th...  https://play.google.com/store/apps/details?id=...                   SHOPPING,APPLICATION  False\n",
       "29751                 com.king.candycrushsaga               Candy Crush Saga  Master the legendary match 3 puzzle game from ...  https://play.google.com/store/apps/details?id=...                       GAME_CASUAL,GAME  False\n",
       "58794                         me.lyft.android                           Lyft  Get where you’re going with Lyft.\\n\\nWhether y...  https://play.google.com/store/apps/details?id=...        MAPS_AND_NAVIGATION,APPLICATION  False\n",
       "21686               com.futureplay.mergematch                  Merge Gardens  Do you dream about your own gentle garden? You...  https://play.google.com/store/apps/details?id=...                       GAME_PUZZLE,GAME  False\n",
       "1021                               1105855019                   Gardenscapes  Welcome to Gardenscapes—the first hit from Pla...  https://apps.apple.com/us/app/gardenscapes/id1...  Games,Entertainment,Puzzle,Simulation   True\n",
       "56467                 in.playsimple.tripcross                  Crossword Jam  Word Jam - A word search & word guess brain ga...  https://play.google.com/store/apps/details?id=...                         GAME_WORD,GAME  False"
      ]
     },
     "execution_count": 2,
     "metadata": {},
     "output_type": "execute_result"
    }
   ],
   "source": [
    "df = pd.read_parquet(data_dir / \"sample_apps.parquet\").sample(9)\n",
    "df"
   ]
  },
  {
   "cell_type": "code",
   "execution_count": 5,
   "metadata": {},
   "outputs": [
    {
     "data": {
      "text/plain": [
       "category_names\n",
       "game                   4\n",
       "application            3\n",
       "games                  2\n",
       "entertainment          2\n",
       "shopping               2\n",
       "game_puzzle            2\n",
       "card                   1\n",
       "casual                 1\n",
       "game_casual            1\n",
       "maps_and_navigation    1\n",
       "puzzle                 1\n",
       "simulation             1\n",
       "game_word              1\n",
       "Name: count, dtype: int64"
      ]
     },
     "execution_count": 5,
     "metadata": {},
     "output_type": "execute_result"
    }
   ],
   "source": [
    "categories = df[\"category_names\"].str.lower().str.split(',').explode().value_counts()\n",
    "categories"
   ]
  },
  {
   "cell_type": "markdown",
   "metadata": {},
   "source": [
    "## Naive approach, just Ask nicely."
   ]
  },
  {
   "cell_type": "code",
   "execution_count": 9,
   "metadata": {},
   "outputs": [
    {
     "data": {
      "text/plain": [
       "['dogs are often called \"man\\'s best friend\" due to their']"
      ]
     },
     "execution_count": 9,
     "metadata": {},
     "output_type": "execute_result"
    }
   ],
   "source": [
    "def openai_ask(prompts):\n",
    "    response = openai_client.completions.create(\n",
    "        model=\"text-davinci-003\",\n",
    "        prompt=prompts,\n",
    "    )\n",
    "    ret = [choice.text.strip().lower() for choice in response.choices]\n",
    "    return ret\n"
   ]
  },
  {
   "cell_type": "code",
   "execution_count": 28,
   "metadata": {},
   "outputs": [
    {
     "data": {
      "text/plain": [
       "['game_puzzle']"
      ]
     },
     "execution_count": 28,
     "metadata": {},
     "output_type": "execute_result"
    }
   ],
   "source": [
    "prompt = \"please choose the most likely category that apply to 'Crossword Jam' from the following list:\\n\"\n",
    "prompt+=\"\\n\".join(categories.index)\n",
    "openai_ask(prompt)"
   ]
  },
  {
   "cell_type": "code",
   "execution_count": 29,
   "metadata": {},
   "outputs": [
    {
     "data": {
      "text/plain": [
       "['game_puzzle']"
      ]
     },
     "execution_count": 29,
     "metadata": {},
     "output_type": "execute_result"
    }
   ],
   "source": [
    "openai_ask(prompt)"
   ]
  },
  {
   "cell_type": "code",
   "execution_count": 30,
   "metadata": {},
   "outputs": [
    {
     "data": {
      "text/plain": [
       "['puzzle']"
      ]
     },
     "execution_count": 30,
     "metadata": {},
     "output_type": "execute_result"
    }
   ],
   "source": [
    "openai_ask(prompt)"
   ]
  },
  {
   "cell_type": "markdown",
   "metadata": {},
   "source": [
    "Seem to work pretty, well - let's try multi label?"
   ]
  },
  {
   "cell_type": "code",
   "execution_count": 35,
   "metadata": {},
   "outputs": [
    {
     "data": {
      "text/plain": [
       "[['',\n",
       "  'casual',\n",
       "  'entertainment',\n",
       "  'game',\n",
       "  'game casual',\n",
       "  'game puzzle',\n",
       "  'games'],\n",
       " ['application', 'entertainment', 'game', 'game_puzzle', 'games'],\n",
       " ['entertainment', 'game', 'game_cas', 'game_puzzle', 'games'],\n",
       " ['casual', 'entertainment', 'game', 'game', 'game_puzzle', 'games'],\n",
       " ['casual', 'entertainment', 'game', 'game', 'game_puzzle', 'games'],\n",
       " ['application', 'entertainment', 'game', 'game_puzzle', 'games'],\n",
       " ['casual', 'entertainment', 'game', 'game', 'game_puzzle', 'games'],\n",
       " ['casual', 'entertainment', 'game', 'game', 'game_puzzle', 'games'],\n",
       " ['casual', 'entertainment', 'game', 'game', 'game_puzzle', 'games'],\n",
       " ['casual', 'entertainment', 'game', 'game', 'game_puzzle', 'games']]"
      ]
     },
     "execution_count": 35,
     "metadata": {},
     "output_type": "execute_result"
    }
   ],
   "source": [
    "prompt = \"please choose all the categories that apply to 'Crossword Jam' from the following list:\\n\"\n",
    "prompt+=\"\\n\".join(categories.index)\n",
    "[sorted(map(str.strip,l.strip().replace(\",\", \"\\n\").split(\"\\n\"))) for l in openai_ask([prompt]*10)]"
   ]
  },
  {
   "cell_type": "code",
   "execution_count": 37,
   "metadata": {},
   "outputs": [
    {
     "data": {
      "text/plain": [
       "False"
      ]
     },
     "execution_count": 37,
     "metadata": {},
     "output_type": "execute_result"
    }
   ],
   "source": [
    "\"game casual\" in categories"
   ]
  },
  {
   "cell_type": "markdown",
   "metadata": {},
   "source": [
    "## Using function calls\n",
    "### Choose most likely class"
   ]
  },
  {
   "cell_type": "code",
   "execution_count": 62,
   "metadata": {},
   "outputs": [
    {
     "data": {
      "text/plain": [
       "'game_word'"
      ]
     },
     "execution_count": 62,
     "metadata": {},
     "output_type": "execute_result"
    }
   ],
   "source": [
    "def classify_most_likely(prompt):\n",
    "    messages = [{\"role\": \"user\", \"content\": prompt}]\n",
    "    tools = [\n",
    "        {\n",
    "            \"type\": \"function\",\n",
    "            \"function\": {\n",
    "                \"name\": \"classify_app\",\n",
    "                \"description\": \"Classify to an enum type\",\n",
    "                \"parameters\": {\n",
    "                    \"type\": \"object\",\n",
    "                    \"properties\": {\n",
    "                        \"class\": {\"type\": \"string\", \"enum\": list(categories.index)},\n",
    "                    },\n",
    "                    \"required\": [\"class\"],\n",
    "                },\n",
    "            },\n",
    "        }\n",
    "    ]\n",
    "    response = openai_client.chat.completions.create(\n",
    "        model=\"gpt-3.5-turbo-1106\",\n",
    "        messages=messages,\n",
    "        tools=tools,\n",
    "        tool_choice={\"type\": \"function\", \"function\": {\"name\": \"classify_app\"}}\n",
    "    )\n",
    "    ret =  response.choices[0].message.tool_calls[0].function.arguments\n",
    "    return json.loads(ret)[\"class\"]\n",
    "\n",
    "classify_most_likely(\"please choose the most likely category that apply to 'Crossword Jam'\")"
   ]
  },
  {
   "cell_type": "code",
   "execution_count": 64,
   "metadata": {},
   "outputs": [
    {
     "data": {
      "text/plain": [
       "['game', 'game_word', 'puzzle', 'game_puzzle', 'entertainment']"
      ]
     },
     "execution_count": 64,
     "metadata": {},
     "output_type": "execute_result"
    }
   ],
   "source": [
    "def classify_multiclass(prompt):\n",
    "    messages = [{\"role\": \"user\", \"content\": prompt}]\n",
    "    tools = [\n",
    "        {\n",
    "            \"type\": \"function\",\n",
    "            \"function\": {\n",
    "                \"name\": \"classify_app\",\n",
    "                \"description\": \"Classify to an enum type\",\n",
    "                \"parameters\": {\n",
    "                    \"type\": \"object\",\n",
    "                    \"properties\": {\n",
    "                        \"classes\": {\"type\": \"array\", \"items\": {\"type\": \"string\", \"enum\": list(categories.index)}},\n",
    "                    },\n",
    "                    \"required\": [\"classes\"],\n",
    "                },\n",
    "            },\n",
    "        }\n",
    "    ]\n",
    "    response = openai_client.chat.completions.create(\n",
    "        model=\"gpt-3.5-turbo-1106\",\n",
    "        messages=messages,\n",
    "        tools=tools,\n",
    "        tool_choice={\"type\": \"function\", \"function\": {\"name\": \"classify_app\"}}\n",
    "    )\n",
    "    ret =  response.choices[0].message.tool_calls[0].function.arguments\n",
    "    return json.loads(ret)[\"classes\"]\n",
    "\n",
    "classify_multiclass(\"please choose the all the categories that apply to 'Crossword Jam'\")"
   ]
  },
  {
   "cell_type": "code",
   "execution_count": 65,
   "metadata": {},
   "outputs": [
    {
     "data": {
      "text/plain": [
       "['game', 'game_word', 'puzzle', 'game_puzzle']"
      ]
     },
     "execution_count": 65,
     "metadata": {},
     "output_type": "execute_result"
    }
   ],
   "source": [
    "classify_multiclass(\"please choose the all the categories that apply to 'Crossword Jam'\")"
   ]
  },
  {
   "cell_type": "markdown",
   "metadata": {},
   "source": [
    "## Question:\n",
    "Please write ask the model to classify all of the apps using the methods we learnt.\n",
    "\n",
    "Then create an additional column \"jaccard\" indicating whether intersection over union of the actual categories and the predicted ones.\n",
    "\n",
    "Which method was most successful?"
   ]
  },
  {
   "cell_type": "code",
   "execution_count": null,
   "metadata": {},
   "outputs": [],
   "source": []
  }
 ],
 "metadata": {
  "kernelspec": {
   "display_name": "Python 3 (ipykernel)",
   "language": "python",
   "name": "python3"
  },
  "language_info": {
   "codemirror_mode": {
    "name": "ipython",
    "version": 3
   },
   "file_extension": ".py",
   "mimetype": "text/x-python",
   "name": "python",
   "nbconvert_exporter": "python",
   "pygments_lexer": "ipython3",
   "version": "3.11.5"
  }
 },
 "nbformat": 4,
 "nbformat_minor": 4
}
