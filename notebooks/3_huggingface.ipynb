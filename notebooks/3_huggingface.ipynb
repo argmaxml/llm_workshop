{
 "cells": [
  {
   "cell_type": "code",
   "execution_count": 48,
   "id": "4d11decd-2404-4e1c-b22b-ecdb9d63f7b6",
   "metadata": {},
   "outputs": [
    {
     "name": "stdout",
     "output_type": "stream",
     "text": [
      "/Users/ugoren/Code/PR/llm_workshop/data/sample_apps.parquet\n"
     ]
    }
   ],
   "source": [
    "import sys, json, re\n",
    "import pandas as pd\n",
    "from pathlib import Path\n",
    "from decouple import config\n",
    "import torch\n",
    "from transformers import AutoModelForCausalLM, AutoTokenizer, AutoModelForMaskedLM,  file_utils\n",
    "cache_dir = Path(file_utils.default_cache_path)\n",
    "\n",
    "pd.set_option('display.max_columns', 1000, 'display.width', 1000, 'display.max_rows',1000)\n",
    "\n",
    "data_dir = Path(\".\").absolute().parent/\"data\"\n",
    "ls = lambda p:print(\"\\n\".join(map(str,p.iterdir())))\n",
    "\n",
    "ls(data_dir)\n",
    "hf_model_name = \"gpt2\"\n",
    "# hf_model_name = \"mistralai/Mistral-7B-v0.1\""
   ]
  },
  {
   "cell_type": "code",
   "execution_count": 42,
   "id": "152c7c67-bfc3-4bb6-8208-dbd71024e705",
   "metadata": {},
   "outputs": [
    {
     "data": {
      "text/html": [
       "<div>\n",
       "<style scoped>\n",
       "    .dataframe tbody tr th:only-of-type {\n",
       "        vertical-align: middle;\n",
       "    }\n",
       "\n",
       "    .dataframe tbody tr th {\n",
       "        vertical-align: top;\n",
       "    }\n",
       "\n",
       "    .dataframe thead th {\n",
       "        text-align: right;\n",
       "    }\n",
       "</style>\n",
       "<table border=\"1\" class=\"dataframe\">\n",
       "  <thead>\n",
       "    <tr style=\"text-align: right;\">\n",
       "      <th></th>\n",
       "      <th>bundle_id</th>\n",
       "      <th>title</th>\n",
       "      <th>description</th>\n",
       "      <th>store_url</th>\n",
       "      <th>category_names</th>\n",
       "      <th>ios</th>\n",
       "    </tr>\n",
       "  </thead>\n",
       "  <tbody>\n",
       "    <tr>\n",
       "      <th>6673</th>\n",
       "      <td>892521917</td>\n",
       "      <td>Tiki Solitaire TriPeaks</td>\n",
       "      <td>Tiki Solitaire TriPeaks: the classic Solitaire...</td>\n",
       "      <td>https://apps.apple.com/us/app/tiki-solitaire-t...</td>\n",
       "      <td>Games,Card,Puzzle</td>\n",
       "      <td>True</td>\n",
       "    </tr>\n",
       "    <tr>\n",
       "      <th>62571</th>\n",
       "      <td>slots.pcg.casino.games.free.android</td>\n",
       "      <td>Cash Frenzy™ - Casino Slots</td>\n",
       "      <td>⭐Keep spinning, keep fun going! ⭐ \\n\\nReady to...</td>\n",
       "      <td>https://play.google.com/store/apps/details?id=...</td>\n",
       "      <td>GAME_CASINO,GAME</td>\n",
       "      <td>False</td>\n",
       "    </tr>\n",
       "    <tr>\n",
       "      <th>19386</th>\n",
       "      <td>com.exoticmatch.game</td>\n",
       "      <td>Zen Match</td>\n",
       "      <td>Playing Zen Match for 10 minutes a day sharpen...</td>\n",
       "      <td>https://play.google.com/store/apps/details?id=...</td>\n",
       "      <td>GAME_PUZZLE,GAME</td>\n",
       "      <td>False</td>\n",
       "    </tr>\n",
       "    <tr>\n",
       "      <th>39809</th>\n",
       "      <td>com.playrix.fishdomdd.gplay</td>\n",
       "      <td>Fishdom</td>\n",
       "      <td>Never Fishdomed before? Take a deep breath and...</td>\n",
       "      <td>https://play.google.com/store/apps/details?id=...</td>\n",
       "      <td>GAME_PUZZLE,GAME</td>\n",
       "      <td>False</td>\n",
       "    </tr>\n",
       "    <tr>\n",
       "      <th>24056</th>\n",
       "      <td>com.gramgames.mergedragons</td>\n",
       "      <td>Merge Dragons!</td>\n",
       "      <td>Discover a magical land of entertainment and m...</td>\n",
       "      <td>https://play.google.com/store/apps/details?id=...</td>\n",
       "      <td>GAME_PUZZLE,GAME</td>\n",
       "      <td>False</td>\n",
       "    </tr>\n",
       "    <tr>\n",
       "      <th>15561</th>\n",
       "      <td>com.coupang.mobile</td>\n",
       "      <td>쿠팡 (Coupang)</td>\n",
       "      <td>Coupang is the perfect place for savvy shopper...</td>\n",
       "      <td>https://play.google.com/store/apps/details?id=...</td>\n",
       "      <td>SHOPPING,APPLICATION</td>\n",
       "      <td>False</td>\n",
       "    </tr>\n",
       "    <tr>\n",
       "      <th>60235</th>\n",
       "      <td>net.wooga.junes_journey_hidden_object_mystery_...</td>\n",
       "      <td>June's Journey: Hidden Objects</td>\n",
       "      <td>Are you ready to go on an exciting journey to ...</td>\n",
       "      <td>https://play.google.com/store/apps/details?id=...</td>\n",
       "      <td>GAME_ADVENTURE,GAME</td>\n",
       "      <td>False</td>\n",
       "    </tr>\n",
       "    <tr>\n",
       "      <th>4263</th>\n",
       "      <td>359917414</td>\n",
       "      <td>Solitaire</td>\n",
       "      <td>Solitaire by MobilityWare is the ORIGINAL make...</td>\n",
       "      <td>https://apps.apple.com/us/app/solitaire/id3599...</td>\n",
       "      <td>Games,Casino,Card</td>\n",
       "      <td>True</td>\n",
       "    </tr>\n",
       "    <tr>\n",
       "      <th>29752</th>\n",
       "      <td>com.king.candycrushsodasaga</td>\n",
       "      <td>Candy Crush Soda Saga</td>\n",
       "      <td>You loved playing Candy Crush Saga - Start pla...</td>\n",
       "      <td>https://play.google.com/store/apps/details?id=...</td>\n",
       "      <td>GAME_CASUAL,GAME</td>\n",
       "      <td>False</td>\n",
       "    </tr>\n",
       "  </tbody>\n",
       "</table>\n",
       "</div>"
      ],
      "text/plain": [
       "                                               bundle_id                           title                                        description                                          store_url        category_names    ios\n",
       "6673                                           892521917         Tiki Solitaire TriPeaks  Tiki Solitaire TriPeaks: the classic Solitaire...  https://apps.apple.com/us/app/tiki-solitaire-t...     Games,Card,Puzzle   True\n",
       "62571                slots.pcg.casino.games.free.android     Cash Frenzy™ - Casino Slots  ⭐Keep spinning, keep fun going! ⭐ \\n\\nReady to...  https://play.google.com/store/apps/details?id=...      GAME_CASINO,GAME  False\n",
       "19386                               com.exoticmatch.game                       Zen Match  Playing Zen Match for 10 minutes a day sharpen...  https://play.google.com/store/apps/details?id=...      GAME_PUZZLE,GAME  False\n",
       "39809                        com.playrix.fishdomdd.gplay                         Fishdom  Never Fishdomed before? Take a deep breath and...  https://play.google.com/store/apps/details?id=...      GAME_PUZZLE,GAME  False\n",
       "24056                         com.gramgames.mergedragons                  Merge Dragons!  Discover a magical land of entertainment and m...  https://play.google.com/store/apps/details?id=...      GAME_PUZZLE,GAME  False\n",
       "15561                                 com.coupang.mobile                    쿠팡 (Coupang)  Coupang is the perfect place for savvy shopper...  https://play.google.com/store/apps/details?id=...  SHOPPING,APPLICATION  False\n",
       "60235  net.wooga.junes_journey_hidden_object_mystery_...  June's Journey: Hidden Objects  Are you ready to go on an exciting journey to ...  https://play.google.com/store/apps/details?id=...   GAME_ADVENTURE,GAME  False\n",
       "4263                                           359917414                       Solitaire  Solitaire by MobilityWare is the ORIGINAL make...  https://apps.apple.com/us/app/solitaire/id3599...     Games,Casino,Card   True\n",
       "29752                        com.king.candycrushsodasaga           Candy Crush Soda Saga  You loved playing Candy Crush Saga - Start pla...  https://play.google.com/store/apps/details?id=...      GAME_CASUAL,GAME  False"
      ]
     },
     "execution_count": 42,
     "metadata": {},
     "output_type": "execute_result"
    }
   ],
   "source": [
    "df = pd.read_parquet(data_dir / \"sample_apps.parquet\").sample(9)\n",
    "categories = df[\"category_names\"].str.lower().str.split(',').explode().value_counts()\n",
    "df.sample(9)"
   ]
  },
  {
   "cell_type": "markdown",
   "id": "163af0e0-bf32-4e99-9dee-a8c5c2e77d5d",
   "metadata": {},
   "source": [
    "# Verbalizers\n",
    "\n",
    "## Verbalizers as masks\n",
    "\n",
    "Most generation models we used so far are `CausalLM` trained to predict the next token.\n",
    "\n",
    "However, we can use `MaskedLM` models (that tend to be smaller) if we are looking for a completion mid-sentence"
   ]
  },
  {
   "cell_type": "code",
   "execution_count": 46,
   "id": "e47b5a1d-16b5-435c-938b-64072a582b2e",
   "metadata": {},
   "outputs": [],
   "source": [
    "def masked_lm_yes_or_no(txt, model_str):\n",
    "  assert \"<mask>\" in txt\n",
    "  tokenizer = AutoTokenizer.from_pretrained(model_str)\n",
    "  r = [t for t in tokenizer.encode(\"yes or no\") if t!=tokenizer.bos_token_id and t!=tokenizer.eos_token_id]\n",
    "  yes,_,no = r\n",
    "  model = AutoModelForMaskedLM.from_pretrained(model_str)\n",
    "  # model = AutoModelForSeq2SeqLM.from_pretrained(model_str)\n",
    "  X = tokenizer.encode(txt, return_tensors=\"pt\")\n",
    "  y = model(X)\n",
    "  masked_tup = (X==tokenizer.mask_token_id).nonzero(as_tuple=True)\n",
    "  mask_idx = list(masked_tup[1].numpy())[0]\n",
    "  ret = torch.vstack(\n",
    "  [y.logits[:,mask_idx,no].reshape(-1),\n",
    "    y.logits[:,mask_idx,yes].reshape(-1)],\n",
    "  ).argmax(axis=0)\n",
    "  return ret"
   ]
  },
  {
   "cell_type": "code",
   "execution_count": 47,
   "id": "e04db40b-c89c-49a2-a880-bc60b0901869",
   "metadata": {},
   "outputs": [
    {
     "data": {
      "text/plain": [
       "tensor([0])"
      ]
     },
     "execution_count": 47,
     "metadata": {},
     "output_type": "execute_result"
    }
   ],
   "source": [
    "masked_lm_yes_or_no(\"Is an apple a fruit? answer: <mask>\", \"facebook/bart-large\")"
   ]
  },
  {
   "cell_type": "markdown",
   "id": "7ad0c659-cb98-407b-adf4-696add6361ef",
   "metadata": {},
   "source": [
    "## Verbalizers from generation models"
   ]
  },
  {
   "cell_type": "code",
   "execution_count": 52,
   "id": "55130fad-eff4-4fb4-bbcc-a79ab2a774dd",
   "metadata": {},
   "outputs": [],
   "source": [
    "def causal_lm_yes_or_no(txt, model_str):\n",
    "  tokenizer = AutoTokenizer.from_pretrained(model_str)\n",
    "  r = [t for t in tokenizer.encode(\"yes or no\") if t!=tokenizer.bos_token_id and t!=tokenizer.eos_token_id]\n",
    "  yes,_,no = r\n",
    "  model = AutoModelForCausalLM.from_pretrained(model_str)\n",
    "  X = tokenizer.encode(txt, return_tensors=\"pt\")\n",
    "  y = model(X)\n",
    "  ret = torch.vstack(\n",
    "  [y.logits[:,-1,no].reshape(-1),\n",
    "    y.logits[:,-1,yes].reshape(-1)],\n",
    "  ).argmax(axis=0)\n",
    "  return ret"
   ]
  },
  {
   "cell_type": "code",
   "execution_count": 53,
   "id": "69b6f083-d7b5-46bb-af1d-980f339439ed",
   "metadata": {},
   "outputs": [
    {
     "data": {
      "text/plain": [
       "tensor([0])"
      ]
     },
     "execution_count": 53,
     "metadata": {},
     "output_type": "execute_result"
    }
   ],
   "source": [
    "causal_lm_yes_or_no(\"Is an apple a fruit? answer: <mask>\", \"gpt2\")"
   ]
  },
  {
   "cell_type": "markdown",
   "id": "3aa9d794-e7c6-4a18-94d1-c74d7e3a2871",
   "metadata": {},
   "source": [
    "# JSONFormer\n",
    "JSONFormer constraints the decoder to only output the most-likely token that would result in a valid json according to a predefined schema."
   ]
  },
  {
   "cell_type": "code",
   "execution_count": null,
   "id": "b7b5dd27-45c7-46c8-98d3-c42035c615a8",
   "metadata": {},
   "outputs": [],
   "source": [
    "from jsonformer import Jsonformer\n",
    "\n",
    "model = AutoModelForCausalLM.from_pretrained(hf_model_name)\n",
    "tokenizer = AutoTokenizer.from_pretrained(hf_model_name)\n",
    "\n",
    "json_schema = {\n",
    "    \"type\": \"object\",\n",
    "    \"properties\": {\n",
    "        \"name\": {\"type\": \"string\"},\n",
    "        \"age\": {\"type\": \"number\"},\n",
    "        \"is_for_kids\": {\"type\": \"boolean\"},\n",
    "        \"categories\": {\n",
    "            \"type\": \"array\",\n",
    "            \"items\": {\"type\": \"string\"}\n",
    "        }\n",
    "    }\n",
    "}\n",
    "\n",
    "prompt = \"Please describe 'Candy crush' with the following schema\"\n",
    "jsonformer = Jsonformer(model, tokenizer, json_schema, prompt)\n",
    "generated_data = jsonformer()\n",
    "\n",
    "print(generated_data)"
   ]
  },
  {
   "cell_type": "markdown",
   "id": "36e5c126-a060-4c3c-b5fb-e2e4ea147778",
   "metadata": {},
   "source": [
    "# Guidance\n",
    "Guidance is a very popular library for decoder constraints, that is much more \"user-friendly\" than JSONFormer."
   ]
  },
  {
   "cell_type": "code",
   "execution_count": null,
   "id": "9135c8bb-e269-482b-8c24-79c922088e81",
   "metadata": {},
   "outputs": [],
   "source": [
    "from guidance import models, select, gen\n",
    "llm = models.Transformers(hf_model_name)"
   ]
  },
  {
   "cell_type": "code",
   "execution_count": null,
   "id": "7e0287e7-07c7-4b4c-b8b8-d0c25f167968",
   "metadata": {},
   "outputs": [],
   "source": [
    "prompt = \"Please categorize the mobile app 'slotomania'\"\n",
    "llm + gen(prompt, max_tokens=10)"
   ]
  },
  {
   "cell_type": "code",
   "execution_count": 26,
   "id": "55167518-5941-42b6-8919-f0bd9e9874fb",
   "metadata": {},
   "outputs": [
    {
     "data": {
      "text/html": [
       "<pre style='margin: 0px; padding: 0px; padding-left: 8px; margin-left: -8px; border-radius: 0px; border-left: 1px solid rgba(127, 127, 127, 0.2); white-space: pre-wrap; font-family: ColfaxAI, Arial; font-size: 15px; line-height: 23px;'>Solitaire Grand Harvest is <span style='background-color: rgba(0, 165, 0, 0.15); border-radius: 3px;' title='0.0'>a</span>pplication</pre>"
      ],
      "text/plain": [
       "<guidance.models.transformers._transformers.Transformers at 0x2b9a8f150>"
      ]
     },
     "execution_count": 26,
     "metadata": {},
     "output_type": "execute_result"
    }
   ],
   "source": [
    "app = \"Solitaire Grand Harvest\"\n",
    "\n",
    "llm + f'{app} is ' + select(list(categories.index))"
   ]
  },
  {
   "cell_type": "markdown",
   "id": "daeb6a9f-a1da-4567-b7c2-8d0d31cd6502",
   "metadata": {},
   "source": [
    "# Exercise 3\n",
    "Answer the questions in exercise 1 with `Mistral-7B`"
   ]
  },
  {
   "cell_type": "code",
   "execution_count": null,
   "id": "47cdcc12-8d76-4b9f-98f0-18ff20beae06",
   "metadata": {},
   "outputs": [],
   "source": []
  },
  {
   "cell_type": "code",
   "execution_count": null,
   "id": "5afbf86a-19ea-4cfe-b2fc-f767f84ebf9a",
   "metadata": {},
   "outputs": [],
   "source": []
  }
 ],
 "metadata": {
  "kernelspec": {
   "display_name": "Python 3 (ipykernel)",
   "language": "python",
   "name": "python3"
  },
  "language_info": {
   "codemirror_mode": {
    "name": "ipython",
    "version": 3
   },
   "file_extension": ".py",
   "mimetype": "text/x-python",
   "name": "python",
   "nbconvert_exporter": "python",
   "pygments_lexer": "ipython3",
   "version": "3.11.5"
  }
 },
 "nbformat": 4,
 "nbformat_minor": 5
}
