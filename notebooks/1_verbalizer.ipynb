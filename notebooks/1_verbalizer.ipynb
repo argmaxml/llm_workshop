{
 "cells": [
  {
   "cell_type": "code",
   "execution_count": 22,
   "metadata": {},
   "outputs": [
    {
     "name": "stdout",
     "output_type": "stream",
     "text": [
      "/Users/ugoren/Code/PR/llm_workshop/data/sample_apps.parquet\n"
     ]
    }
   ],
   "source": [
    "import sys, json, re, collections\n",
    "import pandas as pd\n",
    "from pathlib import Path\n",
    "from decouple import config\n",
    "sys.path.append(\"../src/\")\n",
    "from llm_helpers import openai_client\n",
    "\n",
    "pd.set_option('display.max_columns', 1000, 'display.width', 1000, 'display.max_rows',1000)\n",
    "\n",
    "data_dir = Path(\".\").absolute().parent/\"data\"\n",
    "ls = lambda p:print(\"\\n\".join(map(str,p.iterdir())))\n",
    "\n",
    "ls(data_dir)"
   ]
  },
  {
   "cell_type": "code",
   "execution_count": 2,
   "metadata": {},
   "outputs": [
    {
     "data": {
      "text/html": [
       "<div>\n",
       "<style scoped>\n",
       "    .dataframe tbody tr th:only-of-type {\n",
       "        vertical-align: middle;\n",
       "    }\n",
       "\n",
       "    .dataframe tbody tr th {\n",
       "        vertical-align: top;\n",
       "    }\n",
       "\n",
       "    .dataframe thead th {\n",
       "        text-align: right;\n",
       "    }\n",
       "</style>\n",
       "<table border=\"1\" class=\"dataframe\">\n",
       "  <thead>\n",
       "    <tr style=\"text-align: right;\">\n",
       "      <th></th>\n",
       "      <th>bundle_id</th>\n",
       "      <th>title</th>\n",
       "      <th>description</th>\n",
       "      <th>store_url</th>\n",
       "      <th>category_names</th>\n",
       "      <th>ios</th>\n",
       "    </tr>\n",
       "  </thead>\n",
       "  <tbody>\n",
       "    <tr>\n",
       "      <th>4263</th>\n",
       "      <td>359917414</td>\n",
       "      <td>Solitaire</td>\n",
       "      <td>Solitaire by MobilityWare is the ORIGINAL make...</td>\n",
       "      <td>https://apps.apple.com/us/app/solitaire/id3599...</td>\n",
       "      <td>Games,Casino,Card</td>\n",
       "      <td>True</td>\n",
       "    </tr>\n",
       "    <tr>\n",
       "      <th>30750</th>\n",
       "      <td>com.lazada.android</td>\n",
       "      <td>Lazada - Online Shopping App!</td>\n",
       "      <td>Lazada boast a large selection of and assortme...</td>\n",
       "      <td>https://play.google.com/store/apps/details?id=...</td>\n",
       "      <td>SHOPPING,APPLICATION</td>\n",
       "      <td>False</td>\n",
       "    </tr>\n",
       "    <tr>\n",
       "      <th>59980</th>\n",
       "      <td>net.peakgames.toonblast</td>\n",
       "      <td>Toon Blast</td>\n",
       "      <td>From the creators of Toy Blast comes the ultim...</td>\n",
       "      <td>https://play.google.com/store/apps/details?id=...</td>\n",
       "      <td>GAME_PUZZLE,GAME</td>\n",
       "      <td>False</td>\n",
       "    </tr>\n",
       "    <tr>\n",
       "      <th>45897</th>\n",
       "      <td>com.staplegames.blocksClassicSGGP</td>\n",
       "      <td>Block Puzzle - Classic Style</td>\n",
       "      <td>Block Puzzle - Classic Style\\n\\nHow to play:\\n...</td>\n",
       "      <td>https://play.google.com/store/apps/details?id=...</td>\n",
       "      <td>GAME_PUZZLE,GAME</td>\n",
       "      <td>False</td>\n",
       "    </tr>\n",
       "    <tr>\n",
       "      <th>56472</th>\n",
       "      <td>in.playsimple.wordtrip</td>\n",
       "      <td>Word Trip</td>\n",
       "      <td>WINNER OF THE PRESTIGIOUS ACADEMICS' CHOICE MI...</td>\n",
       "      <td>https://play.google.com/store/apps/details?id=...</td>\n",
       "      <td>GAME_WORD,GAME</td>\n",
       "      <td>False</td>\n",
       "    </tr>\n",
       "    <tr>\n",
       "      <th>38654</th>\n",
       "      <td>com.pandora.android</td>\n",
       "      <td>Pandora - Music &amp; Podcasts</td>\n",
       "      <td>Pandora gives you a personalized listening exp...</td>\n",
       "      <td>https://play.google.com/store/apps/details?id=...</td>\n",
       "      <td>MUSIC_AND_AUDIO,APPLICATION</td>\n",
       "      <td>False</td>\n",
       "    </tr>\n",
       "    <tr>\n",
       "      <th>19386</th>\n",
       "      <td>com.exoticmatch.game</td>\n",
       "      <td>Zen Match</td>\n",
       "      <td>Playing Zen Match for 10 minutes a day sharpen...</td>\n",
       "      <td>https://play.google.com/store/apps/details?id=...</td>\n",
       "      <td>GAME_PUZZLE,GAME</td>\n",
       "      <td>False</td>\n",
       "    </tr>\n",
       "    <tr>\n",
       "      <th>51356</th>\n",
       "      <td>com.walmart.android</td>\n",
       "      <td>Walmart Shopping &amp; Grocery</td>\n",
       "      <td>Save money. Live better.\\n\\nThe Walmart app is...</td>\n",
       "      <td>https://play.google.com/store/apps/details?id=...</td>\n",
       "      <td>SHOPPING,APPLICATION</td>\n",
       "      <td>False</td>\n",
       "    </tr>\n",
       "    <tr>\n",
       "      <th>6673</th>\n",
       "      <td>892521917</td>\n",
       "      <td>Tiki Solitaire TriPeaks</td>\n",
       "      <td>Tiki Solitaire TriPeaks: the classic Solitaire...</td>\n",
       "      <td>https://apps.apple.com/us/app/tiki-solitaire-t...</td>\n",
       "      <td>Games,Card,Puzzle</td>\n",
       "      <td>True</td>\n",
       "    </tr>\n",
       "  </tbody>\n",
       "</table>\n",
       "</div>"
      ],
      "text/plain": [
       "                               bundle_id                          title                                        description                                          store_url               category_names    ios\n",
       "4263                           359917414                      Solitaire  Solitaire by MobilityWare is the ORIGINAL make...  https://apps.apple.com/us/app/solitaire/id3599...            Games,Casino,Card   True\n",
       "30750                 com.lazada.android  Lazada - Online Shopping App!  Lazada boast a large selection of and assortme...  https://play.google.com/store/apps/details?id=...         SHOPPING,APPLICATION  False\n",
       "59980            net.peakgames.toonblast                     Toon Blast  From the creators of Toy Blast comes the ultim...  https://play.google.com/store/apps/details?id=...             GAME_PUZZLE,GAME  False\n",
       "45897  com.staplegames.blocksClassicSGGP   Block Puzzle - Classic Style  Block Puzzle - Classic Style\\n\\nHow to play:\\n...  https://play.google.com/store/apps/details?id=...             GAME_PUZZLE,GAME  False\n",
       "56472             in.playsimple.wordtrip                      Word Trip  WINNER OF THE PRESTIGIOUS ACADEMICS' CHOICE MI...  https://play.google.com/store/apps/details?id=...               GAME_WORD,GAME  False\n",
       "38654                com.pandora.android     Pandora - Music & Podcasts  Pandora gives you a personalized listening exp...  https://play.google.com/store/apps/details?id=...  MUSIC_AND_AUDIO,APPLICATION  False\n",
       "19386               com.exoticmatch.game                      Zen Match  Playing Zen Match for 10 minutes a day sharpen...  https://play.google.com/store/apps/details?id=...             GAME_PUZZLE,GAME  False\n",
       "51356                com.walmart.android     Walmart Shopping & Grocery  Save money. Live better.\\n\\nThe Walmart app is...  https://play.google.com/store/apps/details?id=...         SHOPPING,APPLICATION  False\n",
       "6673                           892521917        Tiki Solitaire TriPeaks  Tiki Solitaire TriPeaks: the classic Solitaire...  https://apps.apple.com/us/app/tiki-solitaire-t...            Games,Card,Puzzle   True"
      ]
     },
     "execution_count": 2,
     "metadata": {},
     "output_type": "execute_result"
    }
   ],
   "source": [
    "df = pd.read_parquet(data_dir / \"sample_apps.parquet\").sample(9)\n",
    "df"
   ]
  },
  {
   "cell_type": "markdown",
   "metadata": {},
   "source": [
    "## Asking OpenAI directly?"
   ]
  },
  {
   "cell_type": "code",
   "execution_count": 4,
   "metadata": {},
   "outputs": [
    {
     "data": {
      "text/plain": [
       "['yes, a dog is a mammal.']"
      ]
     },
     "execution_count": 4,
     "metadata": {},
     "output_type": "execute_result"
    }
   ],
   "source": [
    "def openai_ask(prompts):\n",
    "    response = openai_client.completions.create(\n",
    "        model=\"text-davinci-003\",\n",
    "        prompt=prompts,\n",
    "    )\n",
    "    ret = [choice.text.strip().lower() for choice in response.choices]\n",
    "    return ret\n",
    "\n",
    "openai_ask(\"Is a dog a mammal?\")"
   ]
  },
  {
   "cell_type": "code",
   "execution_count": 19,
   "metadata": {},
   "outputs": [
    {
     "data": {
      "text/plain": [
       "['yes']"
      ]
     },
     "execution_count": 19,
     "metadata": {},
     "output_type": "execute_result"
    }
   ],
   "source": [
    "openai_ask(\"Is a dog a mammal? answer yes or no\")"
   ]
  },
  {
   "cell_type": "markdown",
   "metadata": {},
   "source": [
    "## What about \"fuzzier\" questions?"
   ]
  },
  {
   "cell_type": "code",
   "execution_count": 14,
   "metadata": {},
   "outputs": [
    {
     "data": {
      "text/plain": [
       "['the decision if you should take a loan is a personal one, and']"
      ]
     },
     "execution_count": 14,
     "metadata": {},
     "output_type": "execute_result"
    }
   ],
   "source": [
    "openai_ask(\"I'm facing financial troubles, should I take a loan?\")"
   ]
  },
  {
   "cell_type": "code",
   "execution_count": 15,
   "metadata": {},
   "outputs": [
    {
     "data": {
      "text/plain": [
       "['no']"
      ]
     },
     "execution_count": 15,
     "metadata": {},
     "output_type": "execute_result"
    }
   ],
   "source": [
    "openai_ask(\"I'm facing financial troubles, should I take a loan? answer yes or no\")"
   ]
  },
  {
   "cell_type": "code",
   "execution_count": 16,
   "metadata": {},
   "outputs": [
    {
     "data": {
      "text/plain": [
       "['no. taking out a loan should only be done with careful consideration.']"
      ]
     },
     "execution_count": 16,
     "metadata": {},
     "output_type": "execute_result"
    }
   ],
   "source": [
    "openai_ask(\"I'm facing financial troubles, should I take a loan? answer yes or no\")"
   ]
  },
  {
   "cell_type": "code",
   "execution_count": 18,
   "metadata": {},
   "outputs": [
    {
     "data": {
      "text/plain": [
       "['no. before taking a loan, review your budget and all other options']"
      ]
     },
     "execution_count": 18,
     "metadata": {},
     "output_type": "execute_result"
    }
   ],
   "source": [
    "openai_ask(\"I'm facing financial troubles, should I take a loan? answer yes or no\")"
   ]
  },
  {
   "cell_type": "markdown",
   "metadata": {},
   "source": [
    "## Popular approach: Retry"
   ]
  },
  {
   "cell_type": "code",
   "execution_count": 26,
   "metadata": {},
   "outputs": [
    {
     "data": {
      "text/plain": [
       "(2, False)"
      ]
     },
     "execution_count": 26,
     "metadata": {},
     "output_type": "execute_result"
    }
   ],
   "source": [
    "def yes_no_or_retry(prompt):\n",
    "    i=0\n",
    "    answer = \"\"\n",
    "    while answer not in {\"yes\", \"no\"}:\n",
    "        answer = openai_ask(prompt)[0].lower()\n",
    "        i+=1\n",
    "    return i, answer==\"yes\"\n",
    "\n",
    "yes_no_or_retry(\"I'm facing financial troubles, should I take a loan? answer yes or no\")"
   ]
  },
  {
   "cell_type": "markdown",
   "metadata": {},
   "source": [
    "As we can see, the answer is not always a valid choise \"yes\" or \"no\"\n",
    "# Introducing verbalizers:\n",
    "\n",
    "## Verbalizers in a sentence:\n",
    "\n",
    "Mapping a **class** to a **token**, and then choosing the token with the highest logit\n",
    "## The OpenAI tokenizer\n",
    "\n",
    "https://platform.openai.com/tokenizer"
   ]
  },
  {
   "cell_type": "code",
   "execution_count": 20,
   "metadata": {},
   "outputs": [
    {
     "data": {
      "text/plain": [
       "[True]"
      ]
     },
     "execution_count": 20,
     "metadata": {},
     "output_type": "execute_result"
    }
   ],
   "source": [
    "YES_TOKEN = frozenset([5297, 3763, 3363, 8505, 3363, 3763, 43335, 3763, 21560])\n",
    "GPT3_YES_TOKEN = frozenset([9642, 14410, 10035, 7566, 14331, 9891])\n",
    "NO_TOKEN = frozenset([2949, 645, 1400, 3919, 1400, 645, 15285, 645, 8005])\n",
    "GPT3_NO_TOKEN = frozenset([2822, 5782, 912, 2201, 9173, 2360])\n",
    "\n",
    "\n",
    "def openai_yes_or_no(prompts):\n",
    "    response = openai_client.completions.create(\n",
    "        model=\"text-davinci-003\",\n",
    "        prompt=prompts,\n",
    "        temperature=0,\n",
    "        logit_bias={t: 100 for t in YES_TOKEN | NO_TOKEN},\n",
    "        max_tokens=1,\n",
    "    )\n",
    "    ret = [choice.text.strip().lower() == \"yes\" for choice in response.choices]\n",
    "    return ret\n",
    "\n",
    "openai_yes_or_no(\"Is dog a mammal?\")\n"
   ]
  },
  {
   "cell_type": "code",
   "execution_count": 21,
   "metadata": {},
   "outputs": [
    {
     "data": {
      "text/plain": [
       "[False]"
      ]
     },
     "execution_count": 21,
     "metadata": {},
     "output_type": "execute_result"
    }
   ],
   "source": [
    "openai_yes_or_no(\"I'm facing financial troubles, should I take a loan? answer yes or no\")"
   ]
  },
  {
   "cell_type": "code",
   "execution_count": 23,
   "metadata": {},
   "outputs": [
    {
     "data": {
      "text/plain": [
       "Counter({False: 10})"
      ]
     },
     "execution_count": 23,
     "metadata": {},
     "output_type": "execute_result"
    }
   ],
   "source": [
    "prompt = \"I'm facing financial troubles, should I take a loan? answer yes or no\"\n",
    "prompts = [prompt]*10\n",
    "answers = openai_yes_or_no(prompts)\n",
    "collections.Counter(answers)"
   ]
  },
  {
   "cell_type": "markdown",
   "metadata": {},
   "source": [
    "## Question:\n",
    "Ask the following questions for each app\n",
    "1. Is the app for kids?\n",
    "2. Is the app a shopping app?\n",
    "3. Is it a game?\n",
    "4. Is this app a dating app?\n",
    "5. Does this app have in-app purchases?\n",
    "6. Is this app a match 3 game?\n",
    "\n",
    "Compare the naive \"yes\" or \"no\" to logit bias"
   ]
  },
  {
   "cell_type": "code",
   "execution_count": null,
   "metadata": {},
   "outputs": [],
   "source": []
  }
 ],
 "metadata": {
  "kernelspec": {
   "display_name": "Python 3 (ipykernel)",
   "language": "python",
   "name": "python3"
  },
  "language_info": {
   "codemirror_mode": {
    "name": "ipython",
    "version": 3
   },
   "file_extension": ".py",
   "mimetype": "text/x-python",
   "name": "python",
   "nbconvert_exporter": "python",
   "pygments_lexer": "ipython3",
   "version": "3.11.5"
  }
 },
 "nbformat": 4,
 "nbformat_minor": 4
}
